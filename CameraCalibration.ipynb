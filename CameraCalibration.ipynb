{
  "nbformat": 4,
  "nbformat_minor": 0,
  "metadata": {
    "colab": {
      "name": "CameraCalibration.ipynb",
      "provenance": [],
      "collapsed_sections": [],
      "authorship_tag": "ABX9TyN/iS1rt6P+aYbv0pcsLhE1",
      "include_colab_link": true
    },
    "kernelspec": {
      "name": "python3",
      "display_name": "Python 3"
    },
    "language_info": {
      "name": "python"
    }
  },
  "cells": [
    {
      "cell_type": "markdown",
      "metadata": {
        "id": "view-in-github",
        "colab_type": "text"
      },
      "source": [
        "<a href=\"https://colab.research.google.com/github/surensnyper/class_machine_vision/blob/main/CameraCalibration.ipynb\" target=\"_parent\"><img src=\"https://colab.research.google.com/assets/colab-badge.svg\" alt=\"Open In Colab\"/></a>"
      ]
    },
    {
      "cell_type": "code",
      "execution_count": null,
      "metadata": {
        "id": "3V_D08blucCf"
      },
      "outputs": [],
      "source": [
        "n# https://www.youtube.com/watch?v=E3Lg4aZVCAU - Tutorial video of OpenCV\n",
        "# https://www.youtube.com/watch?v=3h7wgR5fYik&t=760s - Another Tutorial\n",
        "# https://docs.opencv.org/4.x/dc/dbb/tutorial_py_calibration.html - OpenCV\n",
        "import numpy as np\n",
        "import cv2 as cv\n",
        "import glob"
      ]
    },
    {
      "cell_type": "code",
      "source": [
        "from google.colab.patches import cv2_imshow\n",
        "import matplotlib.pyplot as plt\n",
        "\n",
        "# img = \"./5.jpg\"\n",
        "# img2 = cv.imread(img)\n",
        "# cv2_imshow(img2)"
      ],
      "metadata": {
        "id": "4iDO-7GB-59i"
      },
      "execution_count": null,
      "outputs": []
    },
    {
      "cell_type": "code",
      "source": [
        "# chessboardSize = (9, 7)\n",
        "# frameSize = (1440, 1080)"
      ],
      "metadata": {
        "id": "g8sK5vHrw6W6"
      },
      "execution_count": null,
      "outputs": []
    },
    {
      "cell_type": "code",
      "source": [
        "# termination criteria\n",
        "criteria = (cv.TERM_CRITERIA_EPS + cv.TERM_CRITERIA_MAX_ITER, 30, 0.001)"
      ],
      "metadata": {
        "id": "LxeWetU1ufd_"
      },
      "execution_count": null,
      "outputs": []
    },
    {
      "cell_type": "code",
      "source": [
        "# prepare object points, like (0,0,0), (1,0,0), (2,0,0) ....,(6,5,0)\n",
        "objp = np.zeros((6*7,3), np.float32)\n",
        "objp[:,:2] = np.mgrid[0:7,0:6].T.reshape(-1,2)\n",
        "# objp = np.zeros((chessboardSize[0]*chessboardSize[1],3), np.float32)\n",
        "# objp[:,:2] = np.mgrid[0:chessboardSize[0], 0:chessboardSize[1]].T.reshape(-1,2)"
      ],
      "metadata": {
        "id": "bkqxeoq1uiGe"
      },
      "execution_count": null,
      "outputs": []
    },
    {
      "cell_type": "code",
      "source": [
        "# Arrays to store object points and image points from all the images.\n",
        "objpoints = [] # 3d point in real world space\n",
        "imgpoints = [] # 2d points in image plane.\n",
        "images = glob.glob('*.jpg')"
      ],
      "metadata": {
        "id": "WtD3kvacujGG"
      },
      "execution_count": null,
      "outputs": []
    },
    {
      "cell_type": "code",
      "source": [
        "for fname in images:\n",
        "\n",
        "    # print(fname)\n",
        "    img = cv.imread(fname)\n",
        "    gray = cv.cvtColor(img, cv.COLOR_BGR2GRAY)\n",
        "    \n",
        "    # Find the chess board corners\n",
        "    ret, corners = cv.findChessboardCorners(gray, (7,6), None)\n",
        "    # ret, corners = cv.findChessboardCorners(gray, chessboardSize, None)\n",
        "\n",
        "    # If found, add object points, image points (after refining them)\n",
        "    if ret == True:\n",
        "        objpoints.append(objp)\n",
        "        corners2 = cv.cornerSubPix(gray,corners, (11,11), (-1,-1), criteria)\n",
        "        imgpoints.append(corners)\n",
        "        # Draw and display the corners\n",
        "        cv.drawChessboardCorners(img, (7,6), corners2, ret)\n",
        "#       cv.imshow('img', img)\n",
        "#       cv.waitKey(500)\n",
        "# cv.destroyAllWindows()"
      ],
      "metadata": {
        "id": "0NnJqgYpulCm"
      },
      "execution_count": null,
      "outputs": []
    },
    {
      "cell_type": "code",
      "source": [
        "################## CALIBRATION ###################\n",
        "ret, mtx, dist, rvecs, tvecs = cv.calibrateCamera(objpoints, imgpoints, gray.shape[::-1], None, None)\n",
        "\n",
        "# ret, mtx, dist, rvecs, tvecs = cv.calibrateCamera(objpoints, imgpoints, frameSize, None, None)\n",
        "\n",
        "print(\"Camera Calibrated: \", ret)\n",
        "print(\"\\nCamera Matrix: \\n\", mtx)\n",
        "print(\"\\nDistortion Parameters: \\n\", dist)\n",
        "print(\"\\nRotation Vectors: \\n\", rvecs)\n",
        "print(\"\\nTranslation Vectors: \\n\", tvecs)"
      ],
      "metadata": {
        "colab": {
          "base_uri": "https://localhost:8080/"
        },
        "id": "liiDCeMZomR6",
        "outputId": "0373bbb3-dc91-4015-f33b-c3e492af03e0"
      },
      "execution_count": null,
      "outputs": [
        {
          "output_type": "stream",
          "name": "stdout",
          "text": [
            "Camera Calibrated:  0.7792198996322665\n",
            "\n",
            "Camera Matrix: \n",
            " [[919.07664386   0.         480.21396913]\n",
            " [  0.         924.80151125 646.07406349]\n",
            " [  0.           0.           1.        ]]\n",
            "\n",
            "Distortion Parameters: \n",
            " [[ 2.43439483e-03  5.03258218e-01  6.31106186e-03 -1.08108075e-03\n",
            "  -1.31973977e+00]]\n",
            "\n",
            "Rotation Vectors: \n",
            " [array([[-0.08408733],\n",
            "       [-0.09864599],\n",
            "       [ 3.13811342]]), array([[-0.52831046],\n",
            "       [ 0.4514259 ],\n",
            "       [ 3.05966441]]), array([[-0.07833323],\n",
            "       [ 0.14497768],\n",
            "       [-3.13038688]]), array([[ 0.02074186],\n",
            "       [-0.47697786],\n",
            "       [ 3.08039953]]), array([[-0.08319506],\n",
            "       [ 0.1480352 ],\n",
            "       [-3.13087952]]), array([[-0.16566147],\n",
            "       [ 0.24940791],\n",
            "       [-3.10841213]])]\n",
            "\n",
            "Translation Vectors: \n",
            " [array([[ 3.75523795],\n",
            "       [ 0.96536826],\n",
            "       [11.23573594]]), array([[ 3.97734711],\n",
            "       [ 0.91119825],\n",
            "       [11.6531275 ]]), array([[ 3.11339442],\n",
            "       [ 1.23319237],\n",
            "       [10.43669757]]), array([[ 3.48849384],\n",
            "       [ 2.35492371],\n",
            "       [10.82855953]]), array([[ 3.12549258],\n",
            "       [ 1.20692415],\n",
            "       [10.31947445]]), array([[ 2.74409027],\n",
            "       [ 1.79241803],\n",
            "       [10.32149224]])]\n"
          ]
        }
      ]
    },
    {
      "cell_type": "code",
      "source": [
        "################## UNDISTORTION ###################\n",
        "img = cv.imread('12.jpg')\n",
        "h,  w = img.shape[:2]\n",
        "newcameramtx, roi = cv.getOptimalNewCameraMatrix(mtx, dist, (w,h), 1, (w,h))"
      ],
      "metadata": {
        "id": "R8N2kcUHzipz"
      },
      "execution_count": null,
      "outputs": []
    },
    {
      "cell_type": "code",
      "source": [
        "# undistort\n",
        "dst = cv.undistort(img, mtx, dist, None, newcameramtx)\n",
        "# crop the image\n",
        "x, y, w, h = roi\n",
        "dst = dst[y:y+h, x:x+w]\n",
        "cv.imwrite('calibresult1.png', dst)"
      ],
      "metadata": {
        "colab": {
          "base_uri": "https://localhost:8080/"
        },
        "id": "w0IwcAsA965S",
        "outputId": "1a7a5342-79fb-4526-8450-61bb690a176b"
      },
      "execution_count": null,
      "outputs": [
        {
          "output_type": "execute_result",
          "data": {
            "text/plain": [
              "True"
            ]
          },
          "metadata": {},
          "execution_count": 203
        }
      ]
    },
    {
      "cell_type": "code",
      "source": [
        "# img3 = \"./calibresult.png\"\n",
        "# img4 = cv.imread(img3)\n",
        "# cv2_imshow(img4)"
      ],
      "metadata": {
        "id": "VLNqg9SP98Jb"
      },
      "execution_count": null,
      "outputs": []
    },
    {
      "cell_type": "code",
      "source": [
        "# Reprojection Error\n",
        "\n",
        "mean_error = 0\n",
        "for i in range(len(objpoints)):\n",
        "    imgpoints2, _ = cv.projectPoints(objpoints[i], rvecs[i], tvecs[i], mtx, dist)\n",
        "    error = cv.norm(imgpoints[i], imgpoints2, cv.NORM_L2)/len(imgpoints2)\n",
        "    mean_error += error\n",
        "print( \"total error: {}\".format(mean_error/len(objpoints)) )"
      ],
      "metadata": {
        "colab": {
          "base_uri": "https://localhost:8080/"
        },
        "id": "1_U5avpC-JTT",
        "outputId": "83b8ef15-d515-44ba-91af-4e1911213ed2"
      },
      "execution_count": null,
      "outputs": [
        {
          "output_type": "stream",
          "name": "stdout",
          "text": [
            "total error: 0.11684156503410041\n"
          ]
        }
      ]
    },
    {
      "cell_type": "code",
      "source": [
        ""
      ],
      "metadata": {
        "id": "1l717rOnD3JD"
      },
      "execution_count": null,
      "outputs": []
    }
  ]
}