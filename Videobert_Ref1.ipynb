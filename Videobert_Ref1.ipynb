{
  "nbformat": 4,
  "nbformat_minor": 0,
  "metadata": {
    "colab": {
      "name": "Videobert Ref1.ipynb",
      "provenance": [],
      "collapsed_sections": [],
      "machine_shape": "hm",
      "authorship_tag": "ABX9TyOlKXMcIKKHfSHKsGbeo0p1",
      "include_colab_link": true
    },
    "kernelspec": {
      "name": "python3",
      "display_name": "Python 3"
    },
    "language_info": {
      "name": "python"
    },
    "accelerator": "GPU"
  },
  "cells": [
    {
      "cell_type": "markdown",
      "metadata": {
        "id": "view-in-github",
        "colab_type": "text"
      },
      "source": [
        "<a href=\"https://colab.research.google.com/github/surensnyper/class_machine_vision/blob/main/Videobert_Ref1.ipynb\" target=\"_parent\"><img src=\"https://colab.research.google.com/assets/colab-badge.svg\" alt=\"Open In Colab\"/></a>"
      ]
    },
    {
      "cell_type": "markdown",
      "source": [
        "https://paperswithcode.com/paper/videobert-a-joint-model-for-video-and#code \\\\\n",
        "https://github.com/ammesatyajit/VideoBERT"
      ],
      "metadata": {
        "id": "v8oOfQWFiSUH"
      }
    },
    {
      "cell_type": "code",
      "execution_count": 1,
      "metadata": {
        "id": "4QUXq52AiPkd",
        "colab": {
          "base_uri": "https://localhost:8080/",
          "height": 77
        },
        "outputId": "ef13a3bf-25ec-4b26-f46c-2fef73133d23"
      },
      "outputs": [
        {
          "output_type": "execute_result",
          "data": {
            "text/plain": [
              "'Using the HowTo100M dataset https://www.di.ens.fr/willow/research/howto100m/, \\nfilter out the cooking videos and download them for feature extraction. \\nThe dataset is also used for extracting images for each feature vector. \\nThe ids for the videos are contained in the ids.txt file.'"
            ],
            "application/vnd.google.colaboratory.intrinsic+json": {
              "type": "string"
            }
          },
          "metadata": {},
          "execution_count": 1
        }
      ],
      "source": [
        "# Step 1: Download 47k videos from the HowTo100M dataset\n",
        "'''Using the HowTo100M dataset https://www.di.ens.fr/willow/research/howto100m/, \n",
        "filter out the cooking videos and download them for feature extraction. \n",
        "The dataset is also used for extracting images for each feature vector. \n",
        "The ids for the videos are contained in the ids.txt file.'''\n"
      ]
    },
    {
      "cell_type": "code",
      "source": [
        "from IPython.display import HTML, display\n",
        "\n",
        "def set_css():\n",
        "  display(HTML('''\n",
        "  <style>\n",
        "    pre {\n",
        "        white-space: pre-wrap;\n",
        "    }\n",
        "  </style>\n",
        "  '''))\n",
        "get_ipython().events.register('pre_run_cell', set_css)"
      ],
      "metadata": {
        "id": "4O-3peN1_wjS"
      },
      "execution_count": 2,
      "outputs": []
    },
    {
      "cell_type": "code",
      "source": [
        "# !pip install --upgrade google-cloud-storage"
      ],
      "metadata": {
        "id": "Dzo-pqfX_wuL",
        "colab": {
          "base_uri": "https://localhost:8080/",
          "height": 17
        },
        "outputId": "d926eff2-6a0d-4e03-ae59-7587223ada35"
      },
      "execution_count": 3,
      "outputs": [
        {
          "output_type": "display_data",
          "data": {
            "text/plain": [
              "<IPython.core.display.HTML object>"
            ],
            "text/html": [
              "\n",
              "  <style>\n",
              "    pre {\n",
              "        white-space: pre-wrap;\n",
              "    }\n",
              "  </style>\n",
              "  "
            ]
          },
          "metadata": {}
        }
      ]
    },
    {
      "cell_type": "code",
      "source": [
        "!git clone https://github.com/ammesatyajit/VideoBERT.git"
      ],
      "metadata": {
        "colab": {
          "base_uri": "https://localhost:8080/",
          "height": 157
        },
        "id": "zzZmgcWv_y0a",
        "outputId": "d7ba2505-d2f0-4b06-d6fa-35ce8210b9d4"
      },
      "execution_count": 4,
      "outputs": [
        {
          "output_type": "display_data",
          "data": {
            "text/plain": [
              "<IPython.core.display.HTML object>"
            ],
            "text/html": [
              "\n",
              "  <style>\n",
              "    pre {\n",
              "        white-space: pre-wrap;\n",
              "    }\n",
              "  </style>\n",
              "  "
            ]
          },
          "metadata": {}
        },
        {
          "output_type": "stream",
          "name": "stdout",
          "text": [
            "Cloning into 'VideoBERT'...\n",
            "remote: Enumerating objects: 2194, done.\u001b[K\n",
            "remote: Counting objects: 100% (87/87), done.\u001b[K\n",
            "remote: Compressing objects: 100% (77/77), done.\u001b[K\n",
            "remote: Total 2194 (delta 48), reused 27 (delta 10), pack-reused 2107\u001b[K\n",
            "Receiving objects: 100% (2194/2194), 171.22 MiB | 11.77 MiB/s, done.\n",
            "Resolving deltas: 100% (1624/1624), done.\n"
          ]
        }
      ]
    },
    {
      "cell_type": "code",
      "source": [
        "!pip install -r /content/VideoBERT/requirements.txt"
      ],
      "metadata": {
        "colab": {
          "base_uri": "https://localhost:8080/"
        },
        "id": "8so8B4i1sD76",
        "outputId": "aed169e0-fbe9-4226-8ab9-3d181cb60c29"
      },
      "execution_count": 1,
      "outputs": [
        {
          "output_type": "stream",
          "name": "stdout",
          "text": [
            "Requirement already satisfied: setuptools~=28.8.1 in /usr/local/lib/python3.7/dist-packages (from -r /content/VideoBERT/requirements.txt (line 1)) (28.8.1)\n",
            "Requirement already satisfied: numpy~=1.19.5 in /usr/local/lib/python3.7/dist-packages (from -r /content/VideoBERT/requirements.txt (line 2)) (1.19.5)\n",
            "Requirement already satisfied: opencv-python~=4.4.0.46 in /usr/local/lib/python3.7/dist-packages (from -r /content/VideoBERT/requirements.txt (line 3)) (4.4.0.46)\n",
            "Requirement already satisfied: torch~=1.7.1 in /usr/local/lib/python3.7/dist-packages (from -r /content/VideoBERT/requirements.txt (line 4)) (1.7.1)\n",
            "Requirement already satisfied: torchvision~=0.8.2 in /usr/local/lib/python3.7/dist-packages (from -r /content/VideoBERT/requirements.txt (line 5)) (0.8.2)\n",
            "Requirement already satisfied: transformers~=2.3.0 in /usr/local/lib/python3.7/dist-packages (from -r /content/VideoBERT/requirements.txt (line 6)) (2.3.0)\n",
            "Requirement already satisfied: tqdm~=4.46.1 in /usr/local/lib/python3.7/dist-packages (from -r /content/VideoBERT/requirements.txt (line 7)) (4.46.1)\n",
            "Requirement already satisfied: scikit-learn~=0.23.2 in /usr/local/lib/python3.7/dist-packages (from -r /content/VideoBERT/requirements.txt (line 8)) (0.23.2)\n",
            "Requirement already satisfied: punctuator~=0.9.6 in /usr/local/lib/python3.7/dist-packages (from -r /content/VideoBERT/requirements.txt (line 9)) (0.9.6)\n",
            "Requirement already satisfied: pandas~=1.1.5 in /usr/local/lib/python3.7/dist-packages (from -r /content/VideoBERT/requirements.txt (line 10)) (1.1.5)\n",
            "Requirement already satisfied: simplejson~=3.17.2 in /usr/local/lib/python3.7/dist-packages (from -r /content/VideoBERT/requirements.txt (line 11)) (3.17.6)\n",
            "Requirement already satisfied: ijson~=3.1.3 in /usr/local/lib/python3.7/dist-packages (from -r /content/VideoBERT/requirements.txt (line 12)) (3.1.4)\n",
            "Requirement already satisfied: torchtext~=0.8.1 in /usr/local/lib/python3.7/dist-packages (from -r /content/VideoBERT/requirements.txt (line 13)) (0.8.1)\n",
            "Requirement already satisfied: hkmeans-minibatch~=1.0.2 in /usr/local/lib/python3.7/dist-packages (from -r /content/VideoBERT/requirements.txt (line 14)) (1.0.2)\n",
            "Requirement already satisfied: typing-extensions in /usr/local/lib/python3.7/dist-packages (from torch~=1.7.1->-r /content/VideoBERT/requirements.txt (line 4)) (3.10.0.2)\n",
            "Requirement already satisfied: pillow>=4.1.1 in /usr/local/lib/python3.7/dist-packages (from torchvision~=0.8.2->-r /content/VideoBERT/requirements.txt (line 5)) (7.1.2)\n",
            "Requirement already satisfied: regex!=2019.12.17 in /usr/local/lib/python3.7/dist-packages (from transformers~=2.3.0->-r /content/VideoBERT/requirements.txt (line 6)) (2022.3.15)\n",
            "Requirement already satisfied: requests in /usr/local/lib/python3.7/dist-packages (from transformers~=2.3.0->-r /content/VideoBERT/requirements.txt (line 6)) (2.23.0)\n",
            "Requirement already satisfied: sentencepiece in /usr/local/lib/python3.7/dist-packages (from transformers~=2.3.0->-r /content/VideoBERT/requirements.txt (line 6)) (0.1.96)\n",
            "Requirement already satisfied: boto3 in /usr/local/lib/python3.7/dist-packages (from transformers~=2.3.0->-r /content/VideoBERT/requirements.txt (line 6)) (1.21.39)\n",
            "Requirement already satisfied: sacremoses in /usr/local/lib/python3.7/dist-packages (from transformers~=2.3.0->-r /content/VideoBERT/requirements.txt (line 6)) (0.0.49)\n",
            "Requirement already satisfied: threadpoolctl>=2.0.0 in /usr/local/lib/python3.7/dist-packages (from scikit-learn~=0.23.2->-r /content/VideoBERT/requirements.txt (line 8)) (3.1.0)\n",
            "Requirement already satisfied: joblib>=0.11 in /usr/local/lib/python3.7/dist-packages (from scikit-learn~=0.23.2->-r /content/VideoBERT/requirements.txt (line 8)) (1.1.0)\n",
            "Requirement already satisfied: scipy>=0.19.1 in /usr/local/lib/python3.7/dist-packages (from scikit-learn~=0.23.2->-r /content/VideoBERT/requirements.txt (line 8)) (1.4.1)\n",
            "Requirement already satisfied: nltk>=3.4.5 in /usr/local/lib/python3.7/dist-packages (from punctuator~=0.9.6->-r /content/VideoBERT/requirements.txt (line 9)) (3.7)\n",
            "Requirement already satisfied: gdown>=3.8.3 in /usr/local/lib/python3.7/dist-packages (from punctuator~=0.9.6->-r /content/VideoBERT/requirements.txt (line 9)) (4.2.2)\n",
            "Requirement already satisfied: theano>=1.0.4 in /usr/local/lib/python3.7/dist-packages (from punctuator~=0.9.6->-r /content/VideoBERT/requirements.txt (line 9)) (1.0.5)\n",
            "Requirement already satisfied: pytz>=2017.2 in /usr/local/lib/python3.7/dist-packages (from pandas~=1.1.5->-r /content/VideoBERT/requirements.txt (line 10)) (2018.9)\n",
            "Requirement already satisfied: python-dateutil>=2.7.3 in /usr/local/lib/python3.7/dist-packages (from pandas~=1.1.5->-r /content/VideoBERT/requirements.txt (line 10)) (2.8.2)\n",
            "Requirement already satisfied: beautifulsoup4 in /usr/local/lib/python3.7/dist-packages (from gdown>=3.8.3->punctuator~=0.9.6->-r /content/VideoBERT/requirements.txt (line 9)) (4.6.3)\n",
            "Requirement already satisfied: filelock in /usr/local/lib/python3.7/dist-packages (from gdown>=3.8.3->punctuator~=0.9.6->-r /content/VideoBERT/requirements.txt (line 9)) (3.6.0)\n",
            "Requirement already satisfied: six in /usr/local/lib/python3.7/dist-packages (from gdown>=3.8.3->punctuator~=0.9.6->-r /content/VideoBERT/requirements.txt (line 9)) (1.15.0)\n",
            "Requirement already satisfied: click in /usr/local/lib/python3.7/dist-packages (from nltk>=3.4.5->punctuator~=0.9.6->-r /content/VideoBERT/requirements.txt (line 9)) (7.1.2)\n",
            "Requirement already satisfied: s3transfer<0.6.0,>=0.5.0 in /usr/local/lib/python3.7/dist-packages (from boto3->transformers~=2.3.0->-r /content/VideoBERT/requirements.txt (line 6)) (0.5.2)\n",
            "Requirement already satisfied: botocore<1.25.0,>=1.24.39 in /usr/local/lib/python3.7/dist-packages (from boto3->transformers~=2.3.0->-r /content/VideoBERT/requirements.txt (line 6)) (1.24.39)\n",
            "Requirement already satisfied: jmespath<2.0.0,>=0.7.1 in /usr/local/lib/python3.7/dist-packages (from boto3->transformers~=2.3.0->-r /content/VideoBERT/requirements.txt (line 6)) (1.0.0)\n",
            "Requirement already satisfied: urllib3<1.27,>=1.25.4 in /usr/local/lib/python3.7/dist-packages (from botocore<1.25.0,>=1.24.39->boto3->transformers~=2.3.0->-r /content/VideoBERT/requirements.txt (line 6)) (1.25.11)\n",
            "Requirement already satisfied: chardet<4,>=3.0.2 in /usr/local/lib/python3.7/dist-packages (from requests->transformers~=2.3.0->-r /content/VideoBERT/requirements.txt (line 6)) (3.0.4)\n",
            "Requirement already satisfied: idna<3,>=2.5 in /usr/local/lib/python3.7/dist-packages (from requests->transformers~=2.3.0->-r /content/VideoBERT/requirements.txt (line 6)) (2.10)\n",
            "Requirement already satisfied: certifi>=2017.4.17 in /usr/local/lib/python3.7/dist-packages (from requests->transformers~=2.3.0->-r /content/VideoBERT/requirements.txt (line 6)) (2021.10.8)\n",
            "Requirement already satisfied: PySocks!=1.5.7,>=1.5.6 in /usr/local/lib/python3.7/dist-packages (from requests->transformers~=2.3.0->-r /content/VideoBERT/requirements.txt (line 6)) (1.7.1)\n"
          ]
        }
      ]
    },
    {
      "cell_type": "code",
      "source": [
        "!pip install VideoBERT/"
      ],
      "metadata": {
        "id": "GjEJLmiL_16C",
        "colab": {
          "base_uri": "https://localhost:8080/"
        },
        "outputId": "2a6ba7be-d786-4b6c-c80b-197c5aec9ee1"
      },
      "execution_count": 2,
      "outputs": [
        {
          "output_type": "stream",
          "name": "stdout",
          "text": [
            "Processing ./VideoBERT\n",
            "\u001b[33m  DEPRECATION: A future pip version will change local packages to be built in-place without first copying to a temporary directory. We recommend you use --use-feature=in-tree-build to test your packages with this new behavior before it becomes the default.\n",
            "   pip 21.3 will remove support for this functionality. You can find discussion regarding this at https://github.com/pypa/pip/issues/7555.\u001b[0m\n",
            "Requirement already satisfied: transformers in /usr/local/lib/python3.7/dist-packages (from VideoBERT==1.0.0) (2.3.0)\n",
            "Requirement already satisfied: tensorboardX in /usr/local/lib/python3.7/dist-packages (from VideoBERT==1.0.0) (2.5)\n",
            "Requirement already satisfied: torch in /usr/local/lib/python3.7/dist-packages (from VideoBERT==1.0.0) (1.7.1)\n",
            "Requirement already satisfied: tensorflow_hub in /usr/local/lib/python3.7/dist-packages (from VideoBERT==1.0.0) (0.12.0)\n",
            "Requirement already satisfied: opencv-python in /usr/local/lib/python3.7/dist-packages (from VideoBERT==1.0.0) (4.4.0.46)\n",
            "Requirement already satisfied: torchvision in /usr/local/lib/python3.7/dist-packages (from VideoBERT==1.0.0) (0.8.2)\n",
            "Requirement already satisfied: punctuator in /usr/local/lib/python3.7/dist-packages (from VideoBERT==1.0.0) (0.9.6)\n",
            "Requirement already satisfied: torchtext in /usr/local/lib/python3.7/dist-packages (from VideoBERT==1.0.0) (0.8.1)\n",
            "Requirement already satisfied: spacy in /usr/local/lib/python3.7/dist-packages (from VideoBERT==1.0.0) (2.2.4)\n",
            "Requirement already satisfied: hkmeans-minibatch in /usr/local/lib/python3.7/dist-packages (from VideoBERT==1.0.0) (1.0.2)\n",
            "Requirement already satisfied: numpy in /usr/local/lib/python3.7/dist-packages (from hkmeans-minibatch->VideoBERT==1.0.0) (1.19.5)\n",
            "Requirement already satisfied: tqdm in /usr/local/lib/python3.7/dist-packages (from hkmeans-minibatch->VideoBERT==1.0.0) (4.46.1)\n",
            "Requirement already satisfied: scikit-learn in /usr/local/lib/python3.7/dist-packages (from hkmeans-minibatch->VideoBERT==1.0.0) (0.23.2)\n",
            "Requirement already satisfied: nltk>=3.4.5 in /usr/local/lib/python3.7/dist-packages (from punctuator->VideoBERT==1.0.0) (3.7)\n",
            "Requirement already satisfied: gdown>=3.8.3 in /usr/local/lib/python3.7/dist-packages (from punctuator->VideoBERT==1.0.0) (4.2.2)\n",
            "Requirement already satisfied: theano>=1.0.4 in /usr/local/lib/python3.7/dist-packages (from punctuator->VideoBERT==1.0.0) (1.0.5)\n",
            "Requirement already satisfied: six in /usr/local/lib/python3.7/dist-packages (from gdown>=3.8.3->punctuator->VideoBERT==1.0.0) (1.15.0)\n",
            "Requirement already satisfied: requests[socks] in /usr/local/lib/python3.7/dist-packages (from gdown>=3.8.3->punctuator->VideoBERT==1.0.0) (2.23.0)\n",
            "Requirement already satisfied: beautifulsoup4 in /usr/local/lib/python3.7/dist-packages (from gdown>=3.8.3->punctuator->VideoBERT==1.0.0) (4.6.3)\n",
            "Requirement already satisfied: filelock in /usr/local/lib/python3.7/dist-packages (from gdown>=3.8.3->punctuator->VideoBERT==1.0.0) (3.6.0)\n",
            "Requirement already satisfied: regex>=2021.8.3 in /usr/local/lib/python3.7/dist-packages (from nltk>=3.4.5->punctuator->VideoBERT==1.0.0) (2022.3.15)\n",
            "Requirement already satisfied: click in /usr/local/lib/python3.7/dist-packages (from nltk>=3.4.5->punctuator->VideoBERT==1.0.0) (7.1.2)\n",
            "Requirement already satisfied: joblib in /usr/local/lib/python3.7/dist-packages (from nltk>=3.4.5->punctuator->VideoBERT==1.0.0) (1.1.0)\n",
            "Requirement already satisfied: scipy>=0.14 in /usr/local/lib/python3.7/dist-packages (from theano>=1.0.4->punctuator->VideoBERT==1.0.0) (1.4.1)\n",
            "Requirement already satisfied: idna<3,>=2.5 in /usr/local/lib/python3.7/dist-packages (from requests[socks]->gdown>=3.8.3->punctuator->VideoBERT==1.0.0) (2.10)\n",
            "Requirement already satisfied: certifi>=2017.4.17 in /usr/local/lib/python3.7/dist-packages (from requests[socks]->gdown>=3.8.3->punctuator->VideoBERT==1.0.0) (2021.10.8)\n",
            "Requirement already satisfied: urllib3!=1.25.0,!=1.25.1,<1.26,>=1.21.1 in /usr/local/lib/python3.7/dist-packages (from requests[socks]->gdown>=3.8.3->punctuator->VideoBERT==1.0.0) (1.25.11)\n",
            "Requirement already satisfied: chardet<4,>=3.0.2 in /usr/local/lib/python3.7/dist-packages (from requests[socks]->gdown>=3.8.3->punctuator->VideoBERT==1.0.0) (3.0.4)\n",
            "Requirement already satisfied: PySocks!=1.5.7,>=1.5.6 in /usr/local/lib/python3.7/dist-packages (from requests[socks]->gdown>=3.8.3->punctuator->VideoBERT==1.0.0) (1.7.1)\n",
            "Requirement already satisfied: threadpoolctl>=2.0.0 in /usr/local/lib/python3.7/dist-packages (from scikit-learn->hkmeans-minibatch->VideoBERT==1.0.0) (3.1.0)\n",
            "Requirement already satisfied: setuptools in /usr/local/lib/python3.7/dist-packages (from spacy->VideoBERT==1.0.0) (28.8.1)\n",
            "Requirement already satisfied: cymem<2.1.0,>=2.0.2 in /usr/local/lib/python3.7/dist-packages (from spacy->VideoBERT==1.0.0) (2.0.6)\n",
            "Requirement already satisfied: plac<1.2.0,>=0.9.6 in /usr/local/lib/python3.7/dist-packages (from spacy->VideoBERT==1.0.0) (1.1.3)\n",
            "Requirement already satisfied: catalogue<1.1.0,>=0.0.7 in /usr/local/lib/python3.7/dist-packages (from spacy->VideoBERT==1.0.0) (1.0.0)\n",
            "Requirement already satisfied: wasabi<1.1.0,>=0.4.0 in /usr/local/lib/python3.7/dist-packages (from spacy->VideoBERT==1.0.0) (0.9.0)\n",
            "Requirement already satisfied: thinc==7.4.0 in /usr/local/lib/python3.7/dist-packages (from spacy->VideoBERT==1.0.0) (7.4.0)\n",
            "Requirement already satisfied: preshed<3.1.0,>=3.0.2 in /usr/local/lib/python3.7/dist-packages (from spacy->VideoBERT==1.0.0) (3.0.6)\n",
            "Requirement already satisfied: blis<0.5.0,>=0.4.0 in /usr/local/lib/python3.7/dist-packages (from spacy->VideoBERT==1.0.0) (0.4.1)\n",
            "Requirement already satisfied: srsly<1.1.0,>=1.0.2 in /usr/local/lib/python3.7/dist-packages (from spacy->VideoBERT==1.0.0) (1.0.5)\n",
            "Requirement already satisfied: murmurhash<1.1.0,>=0.28.0 in /usr/local/lib/python3.7/dist-packages (from spacy->VideoBERT==1.0.0) (1.0.6)\n",
            "Requirement already satisfied: importlib-metadata>=0.20 in /usr/local/lib/python3.7/dist-packages (from catalogue<1.1.0,>=0.0.7->spacy->VideoBERT==1.0.0) (4.11.3)\n",
            "Requirement already satisfied: zipp>=0.5 in /usr/local/lib/python3.7/dist-packages (from importlib-metadata>=0.20->catalogue<1.1.0,>=0.0.7->spacy->VideoBERT==1.0.0) (3.7.0)\n",
            "Requirement already satisfied: typing-extensions>=3.6.4 in /usr/local/lib/python3.7/dist-packages (from importlib-metadata>=0.20->catalogue<1.1.0,>=0.0.7->spacy->VideoBERT==1.0.0) (3.10.0.2)\n",
            "Requirement already satisfied: protobuf>=3.8.0 in /usr/local/lib/python3.7/dist-packages (from tensorboardX->VideoBERT==1.0.0) (3.17.3)\n",
            "Requirement already satisfied: pillow>=4.1.1 in /usr/local/lib/python3.7/dist-packages (from torchvision->VideoBERT==1.0.0) (7.1.2)\n",
            "Requirement already satisfied: sentencepiece in /usr/local/lib/python3.7/dist-packages (from transformers->VideoBERT==1.0.0) (0.1.96)\n",
            "Requirement already satisfied: boto3 in /usr/local/lib/python3.7/dist-packages (from transformers->VideoBERT==1.0.0) (1.21.39)\n",
            "Requirement already satisfied: sacremoses in /usr/local/lib/python3.7/dist-packages (from transformers->VideoBERT==1.0.0) (0.0.49)\n",
            "Requirement already satisfied: s3transfer<0.6.0,>=0.5.0 in /usr/local/lib/python3.7/dist-packages (from boto3->transformers->VideoBERT==1.0.0) (0.5.2)\n",
            "Requirement already satisfied: botocore<1.25.0,>=1.24.39 in /usr/local/lib/python3.7/dist-packages (from boto3->transformers->VideoBERT==1.0.0) (1.24.39)\n",
            "Requirement already satisfied: jmespath<2.0.0,>=0.7.1 in /usr/local/lib/python3.7/dist-packages (from boto3->transformers->VideoBERT==1.0.0) (1.0.0)\n",
            "Requirement already satisfied: python-dateutil<3.0.0,>=2.1 in /usr/local/lib/python3.7/dist-packages (from botocore<1.25.0,>=1.24.39->boto3->transformers->VideoBERT==1.0.0) (2.8.2)\n",
            "Building wheels for collected packages: VideoBERT\n",
            "  Building wheel for VideoBERT (setup.py) ... \u001b[?25l\u001b[?25hdone\n",
            "  Created wheel for VideoBERT: filename=VideoBERT-1.0.0-py3-none-any.whl size=34715 sha256=32513315655dc08637f5064a83ab930ef6bbb47e4689c836d99c4ab8566acfc1\n",
            "  Stored in directory: /tmp/pip-ephem-wheel-cache-6ts_69u0/wheels/68/1b/fa/d7faed26bfdad7e65224ba0a07e4ea58637e68d954c71c56c2\n",
            "Successfully built VideoBERT\n",
            "Installing collected packages: VideoBERT\n",
            "  Attempting uninstall: VideoBERT\n",
            "    Found existing installation: VideoBERT 1.0.0\n",
            "    Uninstalling VideoBERT-1.0.0:\n",
            "      Successfully uninstalled VideoBERT-1.0.0\n",
            "Successfully installed VideoBERT-1.0.0\n"
          ]
        }
      ]
    },
    {
      "cell_type": "code",
      "source": [
        "# GPU check\n",
        "!nvidia-smi"
      ],
      "metadata": {
        "colab": {
          "base_uri": "https://localhost:8080/"
        },
        "id": "-lxvT4sf06R-",
        "outputId": "b48dab22-822a-409d-f458-76f77366edd8"
      },
      "execution_count": 3,
      "outputs": [
        {
          "output_type": "stream",
          "name": "stdout",
          "text": [
            "Wed Apr 13 02:56:17 2022       \n",
            "+-----------------------------------------------------------------------------+\n",
            "| NVIDIA-SMI 460.32.03    Driver Version: 460.32.03    CUDA Version: 11.2     |\n",
            "|-------------------------------+----------------------+----------------------+\n",
            "| GPU  Name        Persistence-M| Bus-Id        Disp.A | Volatile Uncorr. ECC |\n",
            "| Fan  Temp  Perf  Pwr:Usage/Cap|         Memory-Usage | GPU-Util  Compute M. |\n",
            "|                               |                      |               MIG M. |\n",
            "|===============================+======================+======================|\n",
            "|   0  Tesla T4            Off  | 00000000:00:04.0 Off |                    0 |\n",
            "| N/A   43C    P8     9W /  70W |      0MiB / 15109MiB |      0%      Default |\n",
            "|                               |                      |                  N/A |\n",
            "+-------------------------------+----------------------+----------------------+\n",
            "                                                                               \n",
            "+-----------------------------------------------------------------------------+\n",
            "| Processes:                                                                  |\n",
            "|  GPU   GI   CI        PID   Type   Process name                  GPU Memory |\n",
            "|        ID   ID                                                   Usage      |\n",
            "|=============================================================================|\n",
            "|  No running processes found                                                 |\n",
            "+-----------------------------------------------------------------------------+\n"
          ]
        }
      ]
    },
    {
      "cell_type": "code",
      "source": [
        "!python3 VideoBERT/VideoBERT/I3D/batch_extract.py -h"
      ],
      "metadata": {
        "colab": {
          "base_uri": "https://localhost:8080/"
        },
        "id": "myi9HtLmVcvi",
        "outputId": "26b31e3e-6ed4-4874-de66-5cc83255ed62"
      },
      "execution_count": 4,
      "outputs": [
        {
          "output_type": "stream",
          "name": "stdout",
          "text": [
            "2022-04-13 02:56:22.674123: W tensorflow/core/common_runtime/gpu/gpu_bfc_allocator.cc:39] Overriding allow_growth setting because the TF_FORCE_GPU_ALLOW_GROWTH environment variable is set. Original config value was 0.\n",
            "device name: /device:GPU:0\n",
            "usage: batch_extract.py [-h] -f FILE_LIST_PATH -r ROOT_VIDEO_PATH -s\n",
            "                        FEATURES_SAVE_PATH -i IMGS_SAVE_PATH\n",
            "\n",
            "optional arguments:\n",
            "  -h, --help            show this help message and exit\n",
            "  -f FILE_LIST_PATH, --file-list-path FILE_LIST_PATH\n",
            "                        path to file containing video file names\n",
            "  -r ROOT_VIDEO_PATH, --root-video-path ROOT_VIDEO_PATH\n",
            "                        root directory containing video files\n",
            "  -s FEATURES_SAVE_PATH, --features-save-path FEATURES_SAVE_PATH\n",
            "                        directory in which to save features\n",
            "  -i IMGS_SAVE_PATH, --imgs-save-path IMGS_SAVE_PATH\n",
            "                        directory in which to save images\n"
          ]
        }
      ]
    },
    {
      "cell_type": "code",
      "source": [
        ""
      ],
      "metadata": {
        "id": "gRpvnupQ0y4z"
      },
      "execution_count": null,
      "outputs": []
    }
  ]
}